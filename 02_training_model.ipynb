{
 "cells": [
  {
   "cell_type": "markdown",
   "metadata": {},
   "source": [
    "#### referenced by - https://github.com/kuleshov/audio-super-res"
   ]
  },
  {
   "cell_type": "markdown",
   "metadata": {},
   "source": [
    "# Training ASR model"
   ]
  },
  {
   "cell_type": "code",
   "execution_count": 1,
   "metadata": {},
   "outputs": [],
   "source": [
    "import os\n",
    "os.sys.path.append(os.path.abspath('.'))\n",
    "os.sys.path.append(os.path.dirname(os.path.abspath('.')))\n",
    "import numpy as np\n",
    "import matplotlib\n",
    "from asr_model import ASRNet, default_opt\n",
    "from io_utils import upsample_wav\n",
    "from io_utils import load_h5\n",
    "import tensorflow as tf\n",
    "#matplotlib.use('Agg')"
   ]
  },
  {
   "cell_type": "code",
   "execution_count": 2,
   "metadata": {},
   "outputs": [
    {
     "name": "stdout",
     "output_type": "stream",
     "text": [
      "1.5.0\n"
     ]
    }
   ],
   "source": [
    "args = {\n",
    "    'train'      : 'train.h5',\n",
    "    'val'        : 'valid.h5',\n",
    "    'alg'        : 'adam',\n",
    "    'epochs'     : 10,\n",
    "    'logname'    : 'default_log_name',\n",
    "    'layers'     : 4,\n",
    "    'lr'         : 0.0005,\n",
    "    'batch_size' : 100\n",
    "}\n",
    "print(tf.__version__)"
   ]
  },
  {
   "cell_type": "code",
   "execution_count": 3,
   "metadata": {
    "scrolled": true
   },
   "outputs": [
    {
     "name": "stdout",
     "output_type": "stream",
     "text": [
      "List of arrays in input file: KeysView(<HDF5 file \"train.h5\" (mode r)>)\n",
      "Shape of X: (852, 16384, 1)\n",
      "Shape of Y: (852, 16384, 1)\n",
      "List of arrays in input file: KeysView(<HDF5 file \"valid.h5\" (mode r)>)\n",
      "Shape of X: (287, 16384, 1)\n",
      "Shape of Y: (287, 16384, 1)\n"
     ]
    }
   ],
   "source": [
    "# get data\n",
    "X_train, Y_train = load_h5(args['train'])\n",
    "X_val, Y_val = load_h5(args['val'])"
   ]
  },
  {
   "cell_type": "code",
   "execution_count": 4,
   "metadata": {},
   "outputs": [
    {
     "name": "stdout",
     "output_type": "stream",
     "text": [
      "number of dimension Y: 16384\n",
      "number of channel Y: 1\n",
      "number of dimension X: 16384\n",
      "number of channel X: 1\n",
      "r: 1\n"
     ]
    }
   ],
   "source": [
    "# determine super-resolution level\n",
    "n_dim_y, n_chan_y = Y_train[0].shape\n",
    "n_dim_x, n_chan_x = X_train[0].shape\n",
    "print('number of dimension Y:',n_dim_y)\n",
    "print('number of channel Y:',n_chan_y)\n",
    "print('number of dimension X:',n_dim_x)\n",
    "print('number of channel X:',n_chan_x)\n",
    "r = int(Y_train[0].shape[0] / X_train[0].shape[0])\n",
    "print('r:',r)\n",
    "n_chan = n_chan_y\n",
    "n_dim = n_dim_y\n",
    "assert n_chan == 1 # if not number of channel is not 0 -> Error assert!"
   ]
  },
  {
   "cell_type": "code",
   "execution_count": 5,
   "metadata": {
    "scrolled": false
   },
   "outputs": [
    {
     "name": "stdout",
     "output_type": "stream",
     "text": [
      ">> Generator Model init...\n",
      "D-Block >>  Tensor(\"generator/Relu:0\", shape=(?, ?, 32), dtype=float32)\n",
      "D-Block >>  Tensor(\"generator/Relu_1:0\", shape=(?, ?, 48), dtype=float32)\n",
      "D-Block >>  Tensor(\"generator/Relu_2:0\", shape=(?, ?, 64), dtype=float32)\n",
      "D-Block >>  Tensor(\"generator/Relu_3:0\", shape=(?, ?, 64), dtype=float32)\n",
      "B-Block >>  Tensor(\"generator/Relu_4:0\", shape=(?, ?, 64), dtype=float32)\n",
      "U-Block >>  Tensor(\"generator/concat:0\", shape=(?, ?, 128), dtype=float32)\n",
      "U-Block >>  Tensor(\"generator/concat_1:0\", shape=(?, ?, 128), dtype=float32)\n",
      "U-Block >>  Tensor(\"generator/concat_2:0\", shape=(?, ?, 96), dtype=float32)\n",
      "U-Block >>  Tensor(\"generator/concat_3:0\", shape=(?, ?, 64), dtype=float32)\n",
      "Fin-Layer >>  Tensor(\"generator/Add:0\", shape=(?, ?, 1), dtype=float32)\n",
      ">> ...finish\n",
      "\n",
      "creating train_op with params: {'b1': 0.9, 'batch_size': 100, 'layers': 4, 'lr': 0.0005, 'b2': 0.999, 'alg': 'adam'}\n"
     ]
    }
   ],
   "source": [
    "# create model\n",
    "def get_model(args, n_dim, r, from_ckpt=False, train=True):\n",
    "    \"\"\"Create a model based on arguments\"\"\"\n",
    "    \n",
    "    if train:\n",
    "        opt_params = {\n",
    "            'alg' : args['alg'], \n",
    "            'lr' : args['lr'], \n",
    "            'b1' : 0.9, \n",
    "            'b2' : 0.999,\n",
    "            'batch_size': args['batch_size'], \n",
    "            'layers': args['layers']}\n",
    "    else: \n",
    "        opt_params = default_opt\n",
    "\n",
    "    # create model & init\n",
    "    model = ASRNet(\n",
    "        from_ckpt=from_ckpt, \n",
    "        n_dim=n_dim, \n",
    "        r=r,\n",
    "        opt_params=opt_params, \n",
    "        log_prefix=args['logname'])\n",
    "    \n",
    "    return model\n",
    "\n",
    "model = get_model(args, n_dim, r, from_ckpt=False, train=True)"
   ]
  },
  {
   "cell_type": "code",
   "execution_count": null,
   "metadata": {
    "scrolled": false
   },
   "outputs": [
    {
     "name": "stdout",
     "output_type": "stream",
     "text": [
      "start training epoch (n:10)\n",
      "num-of-batch: 100\n",
      "count 1 / obj: 0.011600 / snr: 19.355580\n",
      "count 2 / obj: 0.008685 / snr: 20.612528\n",
      "count 3 / obj: 0.009123 / snr: 20.398688\n",
      "count 4 / obj: 0.008165 / snr: 20.880310\n",
      "count 5 / obj: 0.007995 / snr: 20.972055\n",
      "count 6 / obj: 0.008121 / snr: 20.903914\n",
      "count 7 / obj: 0.008175 / snr: 20.875330\n",
      "count 8 / obj: 0.008135 / snr: 20.896617\n",
      "count 9 / obj: 0.007721 / snr: 21.123295\n",
      "\n",
      "Epoch 1 of 10 took 215.091s (8 minibatches)\n",
      "  training l2_loss/segsnr:\t\t0.008504\t14.878838\n",
      "  validation l2_loss/segsnr:\t\t0.004127\t15.779288\n",
      "-----------------------------------------------------------------------\n",
      "count 1 / obj: 0.008232 / snr: 20.844777\n",
      "count 2 / obj: 0.008422 / snr: 20.745691\n",
      "count 3 / obj: 0.008368 / snr: 20.773929\n",
      "count 4 / obj: 0.010174 / snr: 19.924932\n",
      "count 5 / obj: 0.008494 / snr: 20.709130\n",
      "count 6 / obj: 0.008225 / snr: 20.848514\n",
      "count 7 / obj: 0.007763 / snr: 21.099658\n",
      "count 8 / obj: 0.008255 / snr: 20.832661\n",
      "count 9 / obj: 0.007708 / snr: 21.130599\n",
      "\n",
      "Epoch 2 of 10 took 209.948s (8 minibatches)\n",
      "  training l2_loss/segsnr:\t\t0.008491\t14.833782\n",
      "  validation l2_loss/segsnr:\t\t0.004394\t15.514821\n",
      "-----------------------------------------------------------------------\n",
      "count 1 / obj: 0.008768 / snr: 20.570860\n",
      "count 2 / obj: 0.009080 / snr: 20.419346\n",
      "count 3 / obj: 0.008487 / snr: 20.712319\n",
      "count 4 / obj: 0.009058 / snr: 20.429468\n",
      "count 5 / obj: 0.008655 / snr: 20.627397\n",
      "count 6 / obj: 0.008303 / snr: 20.807446\n",
      "count 7 / obj: 0.008073 / snr: 20.929529\n",
      "count 8 / obj: 0.007903 / snr: 21.021856\n",
      "\n",
      "Epoch 3 of 10 took 187.922s (8 minibatches)\n",
      "  training l2_loss/segsnr:\t\t0.008542\t14.899198\n",
      "  validation l2_loss/segsnr:\t\t0.004204\t15.637467\n",
      "-----------------------------------------------------------------------\n",
      "count 1 / obj: 0.008562 / snr: 20.674066\n"
     ]
    }
   ],
   "source": [
    "# train model\n",
    "model.fit(X_train, Y_train, X_val, Y_val, n_epoch=args['epochs'])"
   ]
  },
  {
   "cell_type": "code",
   "execution_count": null,
   "metadata": {},
   "outputs": [],
   "source": []
  }
 ],
 "metadata": {
  "kernelspec": {
   "display_name": "Python 3",
   "language": "python",
   "name": "python3"
  },
  "language_info": {
   "codemirror_mode": {
    "name": "ipython",
    "version": 3
   },
   "file_extension": ".py",
   "mimetype": "text/x-python",
   "name": "python",
   "nbconvert_exporter": "python",
   "pygments_lexer": "ipython3",
   "version": "3.5.2"
  }
 },
 "nbformat": 4,
 "nbformat_minor": 2
}
