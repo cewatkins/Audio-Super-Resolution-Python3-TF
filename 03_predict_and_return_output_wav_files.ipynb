{
 "cells": [
  {
   "cell_type": "markdown",
   "metadata": {},
   "source": [
    "#### referenced by - https://github.com/kuleshov/audio-super-res\n",
    "# Predict & Get output files\n"
   ]
  },
  {
   "cell_type": "code",
   "execution_count": 1,
   "metadata": {},
   "outputs": [],
   "source": [
    "import os\n",
    "os.sys.path.append(os.path.abspath('.'))\n",
    "os.sys.path.append(os.path.dirname(os.path.abspath('.')))\n",
    "import numpy as np\n",
    "import matplotlib\n",
    "from asr_model import ASRNet, default_opt\n",
    "from io_utils import upsample_wav\n",
    "from io_utils import load_h5\n",
    "import tensorflow as tf"
   ]
  },
  {
   "cell_type": "code",
   "execution_count": 2,
   "metadata": {},
   "outputs": [
    {
     "name": "stdout",
     "output_type": "stream",
     "text": [
      "1.5.0\n"
     ]
    }
   ],
   "source": [
    "args = {\n",
    "    'ckpt'             : './default_log_name.lr0.000100.1.g4.b100/model.ckpt',\n",
    "    'wav_file_list'    : './data/test.txt',\n",
    "    'r'                : 6,\n",
    "    'sr'               : 16000,\n",
    "    'alg'              : 'adam',\n",
    "    'epochs'           : 5,\n",
    "    'logname'          : 'default_log_name',\n",
    "    'layers'           : 4,\n",
    "    'lr'               : 1e-3,\n",
    "    'batch_size'       : 4,\n",
    "    'out_label'        : 'asr_pred',\n",
    "    'in_dir' : './data/test'\n",
    "}\n",
    "print(tf.__version__)"
   ]
  },
  {
   "cell_type": "code",
   "execution_count": 3,
   "metadata": {
    "scrolled": false
   },
   "outputs": [
    {
     "name": "stdout",
     "output_type": "stream",
     "text": [
      ">> Generator Model init...\n",
      "D-Block >>  Tensor(\"generator/Relu:0\", shape=(?, ?, 12), dtype=float32)\n",
      "D-Block >>  Tensor(\"generator/Relu_1:0\", shape=(?, ?, 24), dtype=float32)\n",
      "D-Block >>  Tensor(\"generator/Relu_2:0\", shape=(?, ?, 48), dtype=float32)\n",
      "D-Block >>  Tensor(\"generator/Relu_3:0\", shape=(?, ?, 48), dtype=float32)\n",
      "B-Block >>  Tensor(\"generator/Relu_4:0\", shape=(?, ?, 48), dtype=float32)\n",
      "U-Block >>  Tensor(\"generator/concat:0\", shape=(?, ?, 96), dtype=float32)\n",
      "U-Block >>  Tensor(\"generator/concat_1:0\", shape=(?, ?, 96), dtype=float32)\n",
      "U-Block >>  Tensor(\"generator/concat_2:0\", shape=(?, ?, 48), dtype=float32)\n",
      "U-Block >>  Tensor(\"generator/concat_3:0\", shape=(?, ?, 24), dtype=float32)\n",
      "Fin-Layer >>  Tensor(\"generator/Add:0\", shape=(?, ?, 1), dtype=float32)\n",
      ">> ...finish\n",
      "\n",
      "creating train_op with params: {'lr': 0.001, 'layers': 4, 'alg': 'adam', 'batch_size': 4, 'b1': 0.9, 'b2': 0.999}\n",
      "checkpoint: ./default_log_name.lr0.000100.1.g4.b100/model.ckpt\n",
      "ckpt: ./default_log_name.lr0.000100.1.g4.b100/model.ckpt\n",
      "INFO:tensorflow:Restoring parameters from ./default_log_name.lr0.000100.1.g4.b100/model.ckpt\n",
      "test_0.wav\n",
      "(1, 32768, 1)\n",
      "(1, 5462, 1)\n"
     ]
    },
    {
     "data": {
      "image/png": "[encoded data removed]",
      "text/plain": [
       "<Figure size 432x288 with 1 Axes>"
      ]
     },
     "metadata": {},
     "output_type": "display_data"
    }
   ],
   "source": [
    "def evaluate(args):\n",
    "    # load model\n",
    "    model = get_model(args, 0, args['r'], from_ckpt=False, train=True)\n",
    "    model.load(args['ckpt']) # from default checkpoint\n",
    "\n",
    "    if args['wav_file_list']:\n",
    "        with open(args['wav_file_list']) as f:\n",
    "            for line in f:\n",
    "                try:\n",
    "                    filename = line.strip()\n",
    "                    print(filename)\n",
    "                    filename = os.path.join(args['in_dir'], filename)\n",
    "                    upsample_wav(filename, args, model)\n",
    "                except EOFError:\n",
    "                    print('WARNING: Error reading file:', line.strip())\n",
    "\n",
    "\n",
    "def get_model(args, n_dim, r, from_ckpt=False, train=True):\n",
    "    \"\"\"Create a model based on arguments\"\"\"  \n",
    "    if train:\n",
    "        opt_params = {\n",
    "            'alg' : args['alg'], \n",
    "            'lr' : args['lr'], \n",
    "            'b1' : 0.9, \n",
    "            'b2' : 0.999,\n",
    "            'batch_size': args['batch_size'], \n",
    "            'layers': args['layers']}\n",
    "    else: \n",
    "        opt_params = default_opt\n",
    "\n",
    "    # create model & init\n",
    "    model = ASRNet(\n",
    "        from_ckpt=from_ckpt, \n",
    "        n_dim=n_dim, \n",
    "        r=r,\n",
    "        opt_params=opt_params, \n",
    "        log_prefix=args['logname'])\n",
    "        \n",
    "    return model\n",
    "\n",
    "evaluate(args)"
   ]
  },
  {
   "cell_type": "code",
   "execution_count": null,
   "metadata": {},
   "outputs": [],
   "source": []
  },
  {
   "cell_type": "code",
   "execution_count": null,
   "metadata": {},
   "outputs": [],
   "source": []
  },
  {
   "cell_type": "code",
   "execution_count": null,
   "metadata": {},
   "outputs": [],
   "source": []
  }
 ],
 "metadata": {
  "kernelspec": {
   "display_name": "Python 3",
   "language": "python",
   "name": "python3"
  },
  "language_info": {
   "codemirror_mode": {
    "name": "ipython",
    "version": 3
   },
   "file_extension": ".py",
   "mimetype": "text/x-python",
   "name": "python",
   "nbconvert_exporter": "python",
   "pygments_lexer": "ipython3",
   "version": "3.5.2"
  }
 },
 "nbformat": 4,
 "nbformat_minor": 2
}
