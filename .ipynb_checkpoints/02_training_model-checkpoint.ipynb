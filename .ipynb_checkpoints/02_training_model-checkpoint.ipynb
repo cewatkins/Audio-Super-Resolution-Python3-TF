{
 "cells": [
  {
   "cell_type": "markdown",
   "metadata": {},
   "source": [
    "#### referenced by - https://github.com/kuleshov/audio-super-res"
   ]
  },
  {
   "cell_type": "markdown",
   "metadata": {},
   "source": [
    "# Training ASR model"
   ]
  },
  {
   "cell_type": "code",
   "execution_count": 1,
   "metadata": {},
   "outputs": [],
   "source": [
    "import os\n",
    "os.sys.path.append(os.path.abspath('.'))\n",
    "os.sys.path.append(os.path.dirname(os.path.abspath('.')))\n",
    "import numpy as np\n",
    "import matplotlib\n",
    "from asr_model import ASRNet, default_opt\n",
    "from io_utils import upsample_wav\n",
    "from io_utils import load_h5\n",
    "import tensorflow as tf\n",
    "#matplotlib.use('Agg')"
   ]
  },
  {
   "cell_type": "code",
   "execution_count": 2,
   "metadata": {},
   "outputs": [
    {
     "name": "stdout",
     "output_type": "stream",
     "text": [
      "1.5.0\n"
     ]
    }
   ],
   "source": [
    "args = {\n",
    "    'train'      : 'train.h5',\n",
    "    'val'        : 'valid.h5',\n",
    "    'alg'        : 'adam',\n",
    "    'epochs'     : 10,\n",
    "    'logname'    : 'default_log_name',\n",
    "    'layers'     : 4,\n",
    "    'lr'         : 0.0005,\n",
    "    'batch_size' : 100\n",
    "}\n",
    "print(tf.__version__)"
   ]
  },
  {
   "cell_type": "code",
   "execution_count": 3,
   "metadata": {
    "scrolled": true
   },
   "outputs": [
    {
     "name": "stdout",
     "output_type": "stream",
     "text": [
      "List of arrays in input file: KeysView(<HDF5 file \"train.h5\" (mode r)>)\n",
      "Shape of X: ()\n",
      "Shape of Y: ()\n",
      "List of arrays in input file: KeysView(<HDF5 file \"valid.h5\" (mode r)>)\n",
      "Shape of X: (162, 32768, 1)\n",
      "Shape of Y: (162, 32768, 1)\n"
     ]
    }
   ],
   "source": [
    "# get data\n",
    "X_train, Y_train = load_h5(args['train'])\n",
    "X_val, Y_val = load_h5(args['val'])"
   ]
  },
  {
   "cell_type": "code",
   "execution_count": 4,
   "metadata": {},
   "outputs": [
    {
     "ename": "IndexError",
     "evalue": "too many indices for array",
     "output_type": "error",
     "traceback": [
      "\u001b[0;31m---------------------------------------------------------------------------\u001b[0m",
      "\u001b[0;31mIndexError\u001b[0m                                Traceback (most recent call last)",
      "\u001b[0;32m<ipython-input-4-5c4efafe2f27>\u001b[0m in \u001b[0;36m<module>\u001b[0;34m()\u001b[0m\n\u001b[1;32m      1\u001b[0m \u001b[0;31m# determine super-resolution level\u001b[0m\u001b[0;34m\u001b[0m\u001b[0;34m\u001b[0m\u001b[0m\n\u001b[0;32m----> 2\u001b[0;31m \u001b[0mn_dim_y\u001b[0m\u001b[0;34m,\u001b[0m \u001b[0mn_chan_y\u001b[0m \u001b[0;34m=\u001b[0m \u001b[0mY_train\u001b[0m\u001b[0;34m[\u001b[0m\u001b[0;36m0\u001b[0m\u001b[0;34m]\u001b[0m\u001b[0;34m.\u001b[0m\u001b[0mshape\u001b[0m\u001b[0;34m\u001b[0m\u001b[0m\n\u001b[0m\u001b[1;32m      3\u001b[0m \u001b[0mn_dim_x\u001b[0m\u001b[0;34m,\u001b[0m \u001b[0mn_chan_x\u001b[0m \u001b[0;34m=\u001b[0m \u001b[0mX_train\u001b[0m\u001b[0;34m[\u001b[0m\u001b[0;36m0\u001b[0m\u001b[0;34m]\u001b[0m\u001b[0;34m.\u001b[0m\u001b[0mshape\u001b[0m\u001b[0;34m\u001b[0m\u001b[0m\n\u001b[1;32m      4\u001b[0m \u001b[0mprint\u001b[0m\u001b[0;34m(\u001b[0m\u001b[0;34m'number of dimension Y:'\u001b[0m\u001b[0;34m,\u001b[0m\u001b[0mn_dim_y\u001b[0m\u001b[0;34m)\u001b[0m\u001b[0;34m\u001b[0m\u001b[0m\n\u001b[1;32m      5\u001b[0m \u001b[0mprint\u001b[0m\u001b[0;34m(\u001b[0m\u001b[0;34m'number of channel Y:'\u001b[0m\u001b[0;34m,\u001b[0m\u001b[0mn_chan_y\u001b[0m\u001b[0;34m)\u001b[0m\u001b[0;34m\u001b[0m\u001b[0m\n",
      "\u001b[0;31mIndexError\u001b[0m: too many indices for array"
     ]
    }
   ],
   "source": [
    "# determine super-resolution level\n",
    "n_dim_y, n_chan_y = Y_train[0].shape\n",
    "n_dim_x, n_chan_x = X_train[0].shape\n",
    "print('number of dimension Y:',n_dim_y)\n",
    "print('number of channel Y:',n_chan_y)\n",
    "print('number of dimension X:',n_dim_x)\n",
    "print('number of channel X:',n_chan_x)\n",
    "r = int(Y_train[0].shape[0] / X_train[0].shape[0])\n",
    "print('r:',r)\n",
    "n_chan = n_chan_y\n",
    "n_dim = n_dim_y\n",
    "assert n_chan == 1 # if not number of channel is not 0 -> Error assert!"
   ]
  },
  {
   "cell_type": "code",
   "execution_count": null,
   "metadata": {
    "scrolled": false
   },
   "outputs": [],
   "source": [
    "# create model\n",
    "def get_model(args, n_dim, r, from_ckpt=False, train=True):\n",
    "    \"\"\"Create a model based on arguments\"\"\"\n",
    "    \n",
    "    if train:\n",
    "        opt_params = {\n",
    "            'alg' : args['alg'], \n",
    "            'lr' : args['lr'], \n",
    "            'b1' : 0.9, \n",
    "            'b2' : 0.999,\n",
    "            'batch_size': args['batch_size'], \n",
    "            'layers': args['layers']}\n",
    "    else: \n",
    "        opt_params = default_opt\n",
    "\n",
    "    # create model & init\n",
    "    model = ASRNet(\n",
    "        from_ckpt=from_ckpt, \n",
    "        n_dim=n_dim, \n",
    "        r=r,\n",
    "        opt_params=opt_params, \n",
    "        log_prefix=args['logname'])\n",
    "    \n",
    "    return model\n",
    "\n",
    "model = get_model(args, n_dim, r, from_ckpt=False, train=True)"
   ]
  },
  {
   "cell_type": "code",
   "execution_count": null,
   "metadata": {
    "scrolled": false
   },
   "outputs": [],
   "source": [
    "# train model\n",
    "model.fit(X_train, Y_train, X_val, Y_val, n_epoch=args['epochs'])"
   ]
  },
  {
   "cell_type": "code",
   "execution_count": null,
   "metadata": {},
   "outputs": [],
   "source": []
  }
 ],
 "metadata": {
  "kernelspec": {
   "display_name": "Python 3",
   "language": "python",
   "name": "python3"
  },
  "language_info": {
   "codemirror_mode": {
    "name": "ipython",
    "version": 3
   },
   "file_extension": ".py",
   "mimetype": "text/x-python",
   "name": "python",
   "nbconvert_exporter": "python",
   "pygments_lexer": "ipython3",
   "version": "3.5.2"
  }
 },
 "nbformat": 4,
 "nbformat_minor": 2
}
